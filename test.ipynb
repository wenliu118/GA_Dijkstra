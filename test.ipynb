{
 "cells": [
  {
   "cell_type": "code",
   "execution_count": 4,
   "id": "86eac6e5",
   "metadata": {},
   "outputs": [],
   "source": [
    "import numpy as np\n",
    "import math\n",
    "\n",
    "n = 5\n",
    "A = np.array([\n",
    "    [0  , 1/5, 1/2 , 1/3, 0  ], \n",
    "    [1/5, 0  , 1/2 , 0  , 0  ], \n",
    "    [1/2, 1/2, 0   , 1/2, 0  ], \n",
    "    [1/3, 0  , 1/2 , 0  , 1/4], \n",
    "    [0  , 0  , 0   , 1/4, 0  ]\n",
    "])\n",
    "\n",
    "B = []\n",
    "for i in A:\n",
    "    B.append([])\n",
    "    for j in i:\n",
    "        if j == 0:\n",
    "            B[-1].append(0)\n",
    "        else:\n",
    "            B[-1].append(1/j)\n",
    "\n",
    "B = np.array(B)\n",
    "\n",
    "x = []\n",
    "x.append(np.array([1, 0, 0, 0, 0]))\n",
    "\n",
    "v_bar=[]\n",
    "for i in range(2):\n",
    "    v_bar.append([1 for j in range(5)])\n",
    "for i in range(8):\n",
    "    v_bar.append([1, 1, 1, 1, 1])\n",
    "\n",
    "M = 1000\n"
   ]
  },
  {
   "cell_type": "code",
   "execution_count": 5,
   "id": "3e540b0f",
   "metadata": {},
   "outputs": [
    {
     "name": "stdout",
     "output_type": "stream",
     "text": [
      "1 [1, 0, 0, 0, 0]\n",
      "2 [1, 0, 0, 0, 0]\n",
      "3 [1, 0, 0, 0, 0]\n",
      "4 [1, 0, 0, 0, 0]\n",
      "5 [1, 0, 0, 0, 0]\n",
      "6 [1, 0, 0, 0, 0]\n",
      "7 [1, 0, 0, 0, 0]\n",
      "8 [1, 0, 1, 0, 0]\n",
      "9 [1, 0, 1, 0, 0]\n",
      "10 [1, 1, 1, 1, 0]\n"
     ]
    }
   ],
   "source": [
    "# with fire processing time\n",
    "# unfuncitonal\n",
    "x = []\n",
    "x.append(np.array([1, 0, 0, 0, 0]))\n",
    "# process = np.zeros((n, n))\n",
    "q = [2, 1, 3, 2, 1, 0]\n",
    "process = [[-q[i] for j in range(5)] for i in range(5)]\n",
    "for i in range(5):\n",
    "    process[i][i] = 0\n",
    "# print([A[:k] for k in range(5)])\n",
    "\n",
    "chromosome = [0, 0, 1, 1, 0, 1, 5, 2, 3, 0, 1, 4]\n",
    "# print(process)\n",
    "for i in range(10):\n",
    "    process += np.multiply(A, x[-1])\n",
    "#     print(process)\n",
    "    x.append([max(min(math.floor(np.max(process[k, :]))+x[-1][k], 1), 0) for k in range(5)])\n",
    "    print(i+1, x[-1])\n",
    "\n",
    "x = np.array(x)\n",
    "# print(x)\n",
    "# print(list(x[:, 1]).index(1))"
   ]
  },
  {
   "cell_type": "code",
   "execution_count": 6,
   "id": "f4a5ff32",
   "metadata": {},
   "outputs": [
    {
     "name": "stdout",
     "output_type": "stream",
     "text": [
      "1 [1, 0, 0, 0, 0]\n",
      "2 [1, 0, 1, 0, 0]\n",
      "3 [1, 0, 1, 1, 0]\n",
      "4 [1, 1, 1, 1, 0]\n",
      "5 [1, 1, 1, 1, 0]\n",
      "6 [1, 1, 1, 1, 0]\n",
      "7 [1, 1, 1, 1, 1]\n",
      "8 [1, 1, 1, 1, 1]\n",
      "9 [1, 1, 1, 1, 1]\n",
      "10 [1, 1, 1, 1, 1]\n",
      "[[1 0 0 0 0]\n",
      " [1 0 0 0 0]\n",
      " [1 0 1 0 0]\n",
      " [1 0 1 1 0]\n",
      " [1 1 1 1 0]\n",
      " [1 1 1 1 0]\n",
      " [1 1 1 1 0]\n",
      " [1 1 1 1 1]\n",
      " [1 1 1 1 1]\n",
      " [1 1 1 1 1]\n",
      " [1 1 1 1 1]]\n",
      "4\n"
     ]
    }
   ],
   "source": [
    "# no fire processing time\n",
    "# well funcitonal\n",
    "x = []\n",
    "x.append(np.array([1, 0, 0, 0, 0]))\n",
    "process = np.zeros((n, n))\n",
    "# print([A[:k] for k in range(5)])\n",
    "\n",
    "chromosome = [0, 0, 1, 1, 0, 1, 5, 2, 3, 0, 1, 4]\n",
    "\n",
    "for i in range(10):\n",
    "    process += np.multiply(A, x[-1])\n",
    "#     print(process)\n",
    "    x.append([min(math.floor(np.max(process[k, :]))+x[-1][k], 1) for k in range(5)])\n",
    "    print(i+1, x[-1])\n",
    "\n",
    "x = np.array(x)\n",
    "print(x)\n",
    "print(list(x[:, 1]).index(1))"
   ]
  },
  {
   "cell_type": "code",
   "execution_count": 7,
   "id": "492355ed",
   "metadata": {},
   "outputs": [
    {
     "ename": "AttributeError",
     "evalue": "'numpy.ndarray' object has no attribute 'append'",
     "output_type": "error",
     "traceback": [
      "\u001b[1;31m---------------------------------------------------------------------------\u001b[0m",
      "\u001b[1;31mAttributeError\u001b[0m                            Traceback (most recent call last)",
      "Cell \u001b[1;32mIn[7], line 4\u001b[0m\n\u001b[0;32m      1\u001b[0m \u001b[38;5;66;03m# wrong version\u001b[39;00m\n\u001b[0;32m      2\u001b[0m \u001b[38;5;66;03m# ignore the effect of all in-degree\u001b[39;00m\n\u001b[0;32m      3\u001b[0m \u001b[38;5;28;01mfor\u001b[39;00m i \u001b[38;5;129;01min\u001b[39;00m \u001b[38;5;28mrange\u001b[39m(\u001b[38;5;241m10\u001b[39m):\n\u001b[1;32m----> 4\u001b[0m     \u001b[43mx\u001b[49m\u001b[38;5;241;43m.\u001b[39;49m\u001b[43mappend\u001b[49m(x[\u001b[38;5;241m-\u001b[39m\u001b[38;5;241m1\u001b[39m] \u001b[38;5;241m+\u001b[39m x[\u001b[38;5;241m-\u001b[39m\u001b[38;5;241m1\u001b[39m]\u001b[38;5;241m.\u001b[39mastype(\u001b[38;5;28mint\u001b[39m)\u001b[38;5;241m.\u001b[39mdot(A\u001b[38;5;241m+\u001b[39mnp\u001b[38;5;241m.\u001b[39meye(\u001b[38;5;241m5\u001b[39m)))\n\u001b[0;32m      5\u001b[0m     x[\u001b[38;5;241m-\u001b[39m\u001b[38;5;241m1\u001b[39m] \u001b[38;5;241m=\u001b[39m np\u001b[38;5;241m.\u001b[39mmultiply(v_bar[i], x[\u001b[38;5;241m-\u001b[39m\u001b[38;5;241m1\u001b[39m])\n\u001b[0;32m      6\u001b[0m     \u001b[38;5;28;01mfor\u001b[39;00m j \u001b[38;5;129;01min\u001b[39;00m \u001b[38;5;28mrange\u001b[39m(\u001b[38;5;28mlen\u001b[39m(x[\u001b[38;5;241m-\u001b[39m\u001b[38;5;241m1\u001b[39m])):\n",
      "\u001b[1;31mAttributeError\u001b[0m: 'numpy.ndarray' object has no attribute 'append'"
     ]
    }
   ],
   "source": [
    "# wrong version\n",
    "# ignore the effect of all in-degree\n",
    "for i in range(10):\n",
    "    x.append(x[-1] + x[-1].astype(int).dot(A+np.eye(5)))\n",
    "    x[-1] = np.multiply(v_bar[i], x[-1])\n",
    "    for j in range(len(x[-1])):\n",
    "        if(x[-1][j] > 1) :\n",
    "            x[-1][j] = 1\n",
    "\n",
    "for i in x:\n",
    "#     print([math.floor(j) for j in i])\n",
    "    print(i)\n",
    "\n",
    "print()\n",
    "for i in x:\n",
    "    print([math.floor(j) for j in i])\n"
   ]
  },
  {
   "cell_type": "code",
   "execution_count": 22,
   "id": "4e3b0090",
   "metadata": {},
   "outputs": [
    {
     "name": "stdout",
     "output_type": "stream",
     "text": [
      "1\n",
      "2\n",
      "3\n",
      "4\n",
      "5\n"
     ]
    }
   ],
   "source": [
    "for i in range(1, 6):\n",
    "    print(i)"
   ]
  }
 ],
 "metadata": {
  "kernelspec": {
   "display_name": "Python 3 (ipykernel)",
   "language": "python",
   "name": "python3"
  },
  "language_info": {
   "codemirror_mode": {
    "name": "ipython",
    "version": 3
   },
   "file_extension": ".py",
   "mimetype": "text/x-python",
   "name": "python",
   "nbconvert_exporter": "python",
   "pygments_lexer": "ipython3",
   "version": "3.10.9"
  }
 },
 "nbformat": 4,
 "nbformat_minor": 5
}
