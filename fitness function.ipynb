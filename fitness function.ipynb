{
 "cells": [
  {
   "cell_type": "code",
   "execution_count": 82,
   "id": "66a292ae",
   "metadata": {},
   "outputs": [],
   "source": [
    "import numpy as np\n",
    "N=5\n",
    "T=30\n",
    "H={1:3,2:1,3:3,4:2,5:2}\n",
    "N_F={1}\n",
    "infinite=99999\n",
    "u_bar={1:0,2:1,3:0,4:0,5:0} #protect node\n",
    "edge={(1,4):2,(4,1):2,(1,3):15,(3,1):15,(1,2):3,(2,1):3,(4,2):4,(2,4):4,(2,5):2,(5,2):2,(3,5):5,(5,3):5}\n",
    "\n",
    "def Dijkstra(start):\n",
    "    e=np.zeros((N+1,N+1),dtype=int)\n",
    "    dis=np.zeros(N+1,dtype=int)\n",
    "    known=np.zeros(N+1,dtype=int)#紀錄是否得到start到該點的最短路徑\n",
    "    known[start]=1\n",
    "    #initialization\n",
    "    for i in range(1,N+1):\n",
    "        for j in range(1,N+1):\n",
    "            if i==j:\n",
    "                e[i][j]=0\n",
    "            else:\n",
    "                e[i][j]=infinite\n",
    "    for i in edge:\n",
    "        u=i[0]\n",
    "        v=i[1]\n",
    "        if u_bar[u]==0 and u_bar[v]==0:\n",
    "            if v in N_F:\n",
    "                e[u][v]=infinite\n",
    "            else:\n",
    "                e[u][v]=edge[u,v]+H[u]\n",
    "    for i in range(1,N+1):\n",
    "        dis[i]=e[start][i]\n",
    "    \n",
    "    #Dijkstra\n",
    "    for i in range(1,N): #將N-1個node的known標記為1\n",
    "        shortest = infinite\n",
    "        for j in range(1,N+1):\n",
    "            if known[j]==0 and dis[j] < shortest:\n",
    "                shortest = dis[j]\n",
    "                u=j\n",
    "        known[u]=1\n",
    "        for v in range(1,N+1):\n",
    "            if e[u][v]<infinite:\n",
    "                if dis[v] > dis[u]+e[u][v]:\n",
    "                    dis[v] = dis[u]+e[u][v]\n",
    "    return dis\n",
    "#     print(\"distance\",e)\n",
    "#     print(\"burn time index\",dis)\n",
    "#     print(\"known\",known)"
   ]
  },
  {
   "cell_type": "code",
   "execution_count": 83,
   "id": "0f2d1961",
   "metadata": {},
   "outputs": [
    {
     "name": "stdout",
     "output_type": "stream",
     "text": [
      "[    0     0 99999    18     5    26]\n",
      "[0, 1, 0, 1, 1, 1]\n"
     ]
    }
   ],
   "source": [
    "burnTime = Dijkstra(1)\n",
    "result=[0 for i in range(N+1)]\n",
    "for i in range(1,N+1):\n",
    "    if burnTime[i] <= T:\n",
    "        result[i]=1\n",
    "print(burnTime)\n",
    "print(result)"
   ]
  }
 ],
 "metadata": {
  "kernelspec": {
   "display_name": "Python 3 (ipykernel)",
   "language": "python",
   "name": "python3"
  },
  "language_info": {
   "codemirror_mode": {
    "name": "ipython",
    "version": 3
   },
   "file_extension": ".py",
   "mimetype": "text/x-python",
   "name": "python",
   "nbconvert_exporter": "python",
   "pygments_lexer": "ipython3",
   "version": "3.9.12"
  }
 },
 "nbformat": 4,
 "nbformat_minor": 5
}
